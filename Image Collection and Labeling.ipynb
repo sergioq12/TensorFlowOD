{
 "cells": [
  {
   "cell_type": "markdown",
   "id": "c0691f2c",
   "metadata": {},
   "source": [
    "## Import depenencies and install modules"
   ]
  },
  {
   "cell_type": "code",
   "execution_count": 1,
   "id": "60f686d4",
   "metadata": {},
   "outputs": [
    {
     "name": "stdout",
     "output_type": "stream",
     "text": [
      "Collecting opencv-python\n",
      "  Downloading opencv_python-4.6.0.66-cp36-abi3-win_amd64.whl (35.6 MB)\n",
      "     ---------------------------------------- 35.6/35.6 MB 9.6 MB/s eta 0:00:00\n",
      "Collecting numpy>=1.19.3\n",
      "  Using cached numpy-1.23.2-cp310-cp310-win_amd64.whl (14.6 MB)\n",
      "Installing collected packages: numpy, opencv-python\n",
      "Successfully installed numpy-1.23.2 opencv-python-4.6.0.66\n"
     ]
    }
   ],
   "source": [
    "# run pip command to install opencv\n",
    "!pip install opencv-python"
   ]
  },
  {
   "cell_type": "code",
   "execution_count": 11,
   "id": "d4579ccf",
   "metadata": {},
   "outputs": [],
   "source": [
    "# import modules\n",
    "import os\n",
    "import cv2\n",
    "import uuid\n",
    "import time"
   ]
  },
  {
   "cell_type": "code",
   "execution_count": 6,
   "id": "5c940a8c",
   "metadata": {},
   "outputs": [],
   "source": [
    "# define labels\n",
    "labels = [\"flag\"]"
   ]
  },
  {
   "cell_type": "markdown",
   "id": "eede5f1f",
   "metadata": {},
   "source": [
    "## Set up folders"
   ]
  },
  {
   "cell_type": "code",
   "execution_count": 7,
   "id": "33deebda",
   "metadata": {},
   "outputs": [],
   "source": [
    "# Set up folders\n",
    "IMAGES_PATH = os.path.join(\"TensorFlow\", \"workspace\", \"images\", \"collectedImages\")\n",
    "\n",
    "# create folders\n",
    "if not os.path.exists(IMAGES_PATH): # if the path already does not exist\n",
    "    if os.name == \"posix\":\n",
    "        !mkdir -p {IMAGES_PATH}\n",
    "    elif os.name == \"nt\":\n",
    "        !mkdir {IMAGES_PATH}\n",
    "        \n",
    "# create label folders\n",
    "for label in labels:\n",
    "    path = os.path.join(IMAGES_PATH, label)\n",
    "    if not os.path.exists(path):\n",
    "        !mkdir {path}"
   ]
  },
  {
   "cell_type": "markdown",
   "id": "3ebdb1af",
   "metadata": {},
   "source": [
    "## Image Labeling"
   ]
  },
  {
   "cell_type": "code",
   "execution_count": 10,
   "id": "e0005bda",
   "metadata": {},
   "outputs": [
    {
     "name": "stdout",
     "output_type": "stream",
     "text": [
      "Requirement already satisfied: pyqt5 in c:\\users\\sergi\\onedrive\\documents\\programming\\machine learning\\objectdetectiontensorflow\\tensorflowod\\tfod\\lib\\site-packages (5.15.7)\n",
      "Requirement already satisfied: lxml in c:\\users\\sergi\\onedrive\\documents\\programming\\machine learning\\objectdetectiontensorflow\\tensorflowod\\tfod\\lib\\site-packages (4.9.1)\n",
      "Requirement already satisfied: PyQt5-sip<13,>=12.11 in c:\\users\\sergi\\onedrive\\documents\\programming\\machine learning\\objectdetectiontensorflow\\tensorflowod\\tfod\\lib\\site-packages (from pyqt5) (12.11.0)\n",
      "Requirement already satisfied: PyQt5-Qt5>=5.15.0 in c:\\users\\sergi\\onedrive\\documents\\programming\\machine learning\\objectdetectiontensorflow\\tensorflowod\\tfod\\lib\\site-packages (from pyqt5) (5.15.2)\n"
     ]
    }
   ],
   "source": [
    "# install dependencies\n",
    "!pip install --upgrade pyqt5 lxml"
   ]
  },
  {
   "cell_type": "markdown",
   "id": "23b3b91d",
   "metadata": {},
   "source": [
    "## Note\n",
    "This project is using images divided in a train and test folder that has already the labels with them. For further testing, labeling will be re done. The steps below are added for when that is needed, however, it won't be run."
   ]
  },
  {
   "cell_type": "code",
   "execution_count": 15,
   "id": "66ca4125",
   "metadata": {},
   "outputs": [],
   "source": [
    "# label path -- We also clone that repository so that we can install label img\n",
    "LABELING_PATH = os.path.join(\"TensorFlow\", \"labelimg\")\n",
    "if not os.path.exists(LABELING_PATH):\n",
    "    !mkdir {LABELING_PATH}\n",
    "    !git clone https://github.com/tzutalin/labelImg {LABELING_PATH}"
   ]
  },
  {
   "cell_type": "code",
   "execution_count": 17,
   "id": "911c6e1a",
   "metadata": {},
   "outputs": [],
   "source": [
    "# installing label img\n",
    "if os.name==\"posix\":\n",
    "    !cd {LABELING_PATH} && make qt5py3\n",
    "elif os.name==\"nt\":\n",
    "    !cd {LABELING_PATH} && pyrcc5 -o libs/resources.py resources.qrc"
   ]
  },
  {
   "cell_type": "code",
   "execution_count": 18,
   "id": "3f68e168",
   "metadata": {},
   "outputs": [],
   "source": [
    "# opening labelImg program\n",
    "!cd {LABELING_PATH} && python labelImg.py"
   ]
  },
  {
   "cell_type": "code",
   "execution_count": null,
   "id": "a1537f69",
   "metadata": {},
   "outputs": [],
   "source": []
  }
 ],
 "metadata": {
  "kernelspec": {
   "display_name": "tfod",
   "language": "python",
   "name": "tfod"
  },
  "language_info": {
   "codemirror_mode": {
    "name": "ipython",
    "version": 3
   },
   "file_extension": ".py",
   "mimetype": "text/x-python",
   "name": "python",
   "nbconvert_exporter": "python",
   "pygments_lexer": "ipython3",
   "version": "3.10.6"
  }
 },
 "nbformat": 4,
 "nbformat_minor": 5
}
